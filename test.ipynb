{
 "cells": [
  {
   "cell_type": "markdown",
   "metadata": {},
   "source": [
    "### Ejercicio con Pandas"
   ]
  },
  {
   "cell_type": "markdown",
   "metadata": {},
   "source": [
    "Primero importamos pandas"
   ]
  },
  {
   "cell_type": "code",
   "execution_count": 122,
   "metadata": {},
   "outputs": [],
   "source": [
    "import pandas as pd"
   ]
  },
  {
   "cell_type": "markdown",
   "metadata": {},
   "source": [
    "Luego cree una funcion para trabajar con datos, un DataFrame y poder hacer calculos\n"
   ]
  },
  {
   "cell_type": "code",
   "execution_count": 123,
   "metadata": {},
   "outputs": [],
   "source": [
    "def tienda_ropas_accesorios():\n",
    "    productos = [\n",
    "    {\"nombre\": \"Camiseta\", \"precio\": 20, \"cantidad_disponible\":100},\n",
    "    {\"nombre\": \"Pantalón\", \"precio\": 30, \"cantidad_disponible\": 80},\n",
    "    {\"nombre\": \"Zapatos\", \"precio\": 50, \"cantidad_disponible\": 50},\n",
    "    {\"nombre\": \"Reloj\", \"precio\": 100, \"cantidad_disponible\": 30},\n",
    "    {\"nombre\": \"Gorra\", \"precio\": 15, \"cantidad_disponible\": 120},\n",
    "    {\"nombre\": \"Bufanda\", \"precio\": 25, \"cantidad_disponible\": 60},\n",
    "    {\"nombre\": \"Sudadera\", \"precio\": 40, \"cantidad_disponible\": 70},\n",
    "    {\"nombre\": \"Bolsa\", \"precio\": 35, \"cantidad_disponible\": 90},\n",
    "    {\"nombre\": \"Chaqueta\", \"precio\": 80, \"cantidad_disponible\": 40},\n",
    "    {\"nombre\": \"Gafas de sol\", \"precio\": 45, \"cantidad_disponible\":25},\n",
    "    {\"nombre\": \"Calcetines\", \"precio\": 10, \"cantidad_disponible\":150},\n",
    "    {\"nombre\": \"Sombrero\", \"precio\": 20, \"cantidad_disponible\": 55},\n",
    "    {\"nombre\": \"Pulsera\", \"precio\": 5, \"cantidad_disponible\": 200},\n",
    "    {\"nombre\": \"Pendientes\", \"precio\": 15, \"cantidad_disponible\":180},\n",
    "    {\"nombre\": \"Cinturón\", \"precio\": 20, \"cantidad_disponible\":100},\n",
    "    {\"nombre\": \"Vestido\", \"precio\": 60, \"cantidad_disponible\": 35},\n",
    "    {\"nombre\": \"Corbata\", \"precio\": 25, \"cantidad_disponible\": 75},\n",
    "    {\"nombre\": \"Bolso\", \"precio\": 70, \"cantidad_disponible\": 45},\n",
    "    {\"nombre\": \"Paraguas\", \"precio\": 30, \"cantidad_disponible\": 65},\n",
    "    {\"nombre\": \"Collar\", \"precio\": 40, \"cantidad_disponible\": 85},\n",
    "    ]\n",
    "\n",
    "    # Se crea un DataFrame llamado df_productos con dos columnas\n",
    "    df_productos = pd.DataFrame(productos, columns=[\"nombre\", \"cantidad_disponible\"])\n",
    "\n",
    "    # Se agrego una nueva columna llamada precio ya que en el DataFrame solo pedia Columnas de nombre y cantidad_disponible\n",
    "    df_productos[\"precio\"] = [20, 30, 50, 100, 15, 25, 40, 35, 80, 45, 10, 20, 5, 15, 20, 60, 25, 70, 30, 40]\n",
    "\n",
    "    # Valor total del inventario (precio * cantidad_disponible) para cada producto\n",
    "    df_productos[\"valor_total_inventario\"] = df_productos[\"precio\"]*df_productos[\"cantidad_disponible\"]\n",
    "    # El valor total del inventario sumando el valor total de cada producto.\n",
    "    df_productos[\"valor_total_suma_productos\"] = df_productos[\"precio\"].cumsum() * df_productos[\"cantidad_disponible\"]\n",
    "\n",
    "    # Simulacion de ventas de todos los productos, si quiere realizar mas ventas reemplaz el nnumero 1 por otro valor\n",
    "    df_productos[\"Productos_Vendidos\"] = df_productos[\"cantidad_disponible\"] - df_productos[\"cantidad_disponible\"] + 1 \n",
    "    # Aqui se resta la cantidad de unidad vendidas al total disponible de cada producto \n",
    "    df_productos[\"cantidad_disponible\"] = df_productos[\"cantidad_disponible\"] - df_productos[\"Productos_Vendidos\"]\n",
    "    return df_productos"
   ]
  },
  {
   "cell_type": "markdown",
   "metadata": {},
   "source": [
    "Una vez hecha la funcion, se imprimen los resultados"
   ]
  },
  {
   "cell_type": "code",
   "execution_count": 124,
   "metadata": {},
   "outputs": [
    {
     "name": "stdout",
     "output_type": "stream",
     "text": [
      "          nombre  cantidad_disponible  precio  valor_total_inventario  \\\n",
      "0       Camiseta                   99      20                    2000   \n",
      "1       Pantalón                   79      30                    2400   \n",
      "2        Zapatos                   49      50                    2500   \n",
      "3          Reloj                   29     100                    3000   \n",
      "4          Gorra                  119      15                    1800   \n",
      "5        Bufanda                   59      25                    1500   \n",
      "6       Sudadera                   69      40                    2800   \n",
      "7          Bolsa                   89      35                    3150   \n",
      "8       Chaqueta                   39      80                    3200   \n",
      "9   Gafas de sol                   24      45                    1125   \n",
      "10    Calcetines                  149      10                    1500   \n",
      "11      Sombrero                   54      20                    1100   \n",
      "12       Pulsera                  199       5                    1000   \n",
      "13    Pendientes                  179      15                    2700   \n",
      "14      Cinturón                   99      20                    2000   \n",
      "15       Vestido                   34      60                    2100   \n",
      "16       Corbata                   74      25                    1875   \n",
      "17         Bolso                   44      70                    3150   \n",
      "18      Paraguas                   64      30                    1950   \n",
      "19        Collar                   84      40                    3400   \n",
      "\n",
      "    valor_total_suma_productos  Productos_Vendidos  \n",
      "0                         2000                   1  \n",
      "1                         4000                   1  \n",
      "2                         5000                   1  \n",
      "3                         6000                   1  \n",
      "4                        25800                   1  \n",
      "5                        14400                   1  \n",
      "6                        19600                   1  \n",
      "7                        28350                   1  \n",
      "8                        15800                   1  \n",
      "9                        11000                   1  \n",
      "10                       67500                   1  \n",
      "11                       25850                   1  \n",
      "12                       95000                   1  \n",
      "13                       88200                   1  \n",
      "14                       51000                   1  \n",
      "15                       19950                   1  \n",
      "16                       44625                   1  \n",
      "17                       29925                   1  \n",
      "18                       45175                   1  \n",
      "19                       62475                   1  \n"
     ]
    }
   ],
   "source": [
    "print(tienda_ropas_accesorios())"
   ]
  },
  {
   "cell_type": "markdown",
   "metadata": {},
   "source": [
    "### Ejercicio de Algoritmia"
   ]
  },
  {
   "cell_type": "markdown",
   "metadata": {},
   "source": [
    "Hago una funcion que recibe un parametro str y debe convetir solo la primera letra en Mayuscula y las demas sin cambios"
   ]
  },
  {
   "cell_type": "code",
   "execution_count": 125,
   "metadata": {},
   "outputs": [],
   "source": [
    "def capitalizar_palabra(str):\n",
    "    # Se crea la variable \"cadena\" para guardar el str capitalizado\n",
    "    cadena = str.capitalize()\n",
    "    return cadena"
   ]
  },
  {
   "cell_type": "markdown",
   "metadata": {},
   "source": [
    "Se hace una variable para guardar la cadena que se espera ingresar"
   ]
  },
  {
   "cell_type": "code",
   "execution_count": 126,
   "metadata": {},
   "outputs": [],
   "source": [
    "insertar_cadena = input(\"Escribe algo para capitalizar solo la primer letra:\")\n"
   ]
  },
  {
   "cell_type": "markdown",
   "metadata": {},
   "source": [
    "Se imprime el resultado"
   ]
  },
  {
   "cell_type": "code",
   "execution_count": 127,
   "metadata": {},
   "outputs": [
    {
     "name": "stdout",
     "output_type": "stream",
     "text": [
      "Que tal?\n"
     ]
    }
   ],
   "source": [
    "print(capitalizar_palabra(insertar_cadena))"
   ]
  }
 ],
 "metadata": {
  "kernelspec": {
   "display_name": "venv",
   "language": "python",
   "name": "python3"
  },
  "language_info": {
   "codemirror_mode": {
    "name": "ipython",
    "version": 3
   },
   "file_extension": ".py",
   "mimetype": "text/x-python",
   "name": "python",
   "nbconvert_exporter": "python",
   "pygments_lexer": "ipython3",
   "version": "3.12.2"
  }
 },
 "nbformat": 4,
 "nbformat_minor": 2
}
